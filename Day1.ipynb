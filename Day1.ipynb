{
 "cells": [
  {
   "cell_type": "code",
   "execution_count": 1,
   "id": "e45a6362",
   "metadata": {},
   "outputs": [],
   "source": [
    "#Create a function that takes two numbers as arguments and returns their sum.\n",
    "\n",
    "def sum_of_two_numbers(x,y):\n",
    "    z = x + y\n",
    "    print (\"Their sum is\")\n",
    "    return z"
   ]
  },
  {
   "cell_type": "code",
   "execution_count": 2,
   "id": "b438907f",
   "metadata": {},
   "outputs": [
    {
     "name": "stdout",
     "output_type": "stream",
     "text": [
      "Their sum is\n"
     ]
    },
    {
     "data": {
      "text/plain": [
       "30"
      ]
     },
     "execution_count": 2,
     "metadata": {},
     "output_type": "execute_result"
    }
   ],
   "source": [
    "sum_of_two_numbers(10,20)"
   ]
  },
  {
   "cell_type": "code",
   "execution_count": 4,
   "id": "d94ab2a4",
   "metadata": {},
   "outputs": [],
   "source": [
    "#Return the Remainder from Two Numbers\n",
    "\n",
    "def remainder(x,y):\n",
    "    z = x % y\n",
    "    print(\"the ramainder is\")\n",
    "    return z"
   ]
  },
  {
   "cell_type": "code",
   "execution_count": 5,
   "id": "21ccae90",
   "metadata": {},
   "outputs": [
    {
     "name": "stdout",
     "output_type": "stream",
     "text": [
      "the ramainder is\n"
     ]
    },
    {
     "data": {
      "text/plain": [
       "1"
      ]
     },
     "execution_count": 5,
     "metadata": {},
     "output_type": "execute_result"
    }
   ],
   "source": [
    "remainder(1,3)"
   ]
  },
  {
   "cell_type": "code",
   "execution_count": 6,
   "id": "30e2a16d",
   "metadata": {},
   "outputs": [],
   "source": [
    "#Maximum Edge of a Triangle\n",
    "\n",
    "def next_edge(side1, side2):\n",
    "    side3 = (side1 + side2) - 1\n",
    "    return side3\n"
   ]
  },
  {
   "cell_type": "code",
   "execution_count": 7,
   "id": "26964257",
   "metadata": {},
   "outputs": [
    {
     "data": {
      "text/plain": [
       "17"
      ]
     },
     "execution_count": 7,
     "metadata": {},
     "output_type": "execute_result"
    }
   ],
   "source": [
    "next_edge(8,10)"
   ]
  },
  {
   "cell_type": "code",
   "execution_count": 8,
   "id": "75e7b886",
   "metadata": {},
   "outputs": [],
   "source": [
    "#Return a String as an Integer\n",
    "\n",
    "def string_int(txt):\n",
    "    x = int(txt)\n",
    "    return x"
   ]
  },
  {
   "cell_type": "code",
   "execution_count": 9,
   "id": "cea79986",
   "metadata": {},
   "outputs": [
    {
     "data": {
      "text/plain": [
       "6"
      ]
     },
     "execution_count": 9,
     "metadata": {},
     "output_type": "execute_result"
    }
   ],
   "source": [
    "string_int(\"6\")"
   ]
  },
  {
   "cell_type": "code",
   "execution_count": 18,
   "id": "80b238f4",
   "metadata": {},
   "outputs": [],
   "source": [
    "#Write a function that takes an integer minutes and converts it to seconds.\n",
    "\n",
    "def convert(minutes):\n",
    "    seconds = minutes * 60\n",
    "    return seconds"
   ]
  },
  {
   "cell_type": "code",
   "execution_count": 19,
   "id": "4df4b08a",
   "metadata": {},
   "outputs": [
    {
     "data": {
      "text/plain": [
       "3600"
      ]
     },
     "execution_count": 19,
     "metadata": {},
     "output_type": "execute_result"
    }
   ],
   "source": [
    "convert(60)"
   ]
  },
  {
   "cell_type": "code",
   "execution_count": 20,
   "id": "3126fdd7",
   "metadata": {},
   "outputs": [],
   "source": [
    "#Given an n-sided regular polygon n, return the total sum of internal angles (in degrees).\n",
    "def sum_polygon(n):\n",
    "    if n > 2:\n",
    "        m = (n - 2) * 180\n",
    "        return m\n",
    "    else:\n",
    "        print(\"Sides of polygon cannot be less than 2\")"
   ]
  },
  {
   "cell_type": "code",
   "execution_count": 24,
   "id": "622b019a",
   "metadata": {},
   "outputs": [
    {
     "name": "stdout",
     "output_type": "stream",
     "text": [
      "Sides of polygon cannot be less than 2\n"
     ]
    }
   ],
   "source": [
    "sum_polygon(2)"
   ]
  },
  {
   "cell_type": "code",
   "execution_count": 27,
   "id": "fc745a6a",
   "metadata": {},
   "outputs": [],
   "source": [
    "#Create a function that takes the age in years and returns the age in days.\n",
    "\n",
    "def age_years(years):\n",
    "    days = years * 365\n",
    "    print (\"The age in days is\")\n",
    "    return days"
   ]
  },
  {
   "cell_type": "code",
   "execution_count": 29,
   "id": "c198aeed",
   "metadata": {},
   "outputs": [
    {
     "name": "stdout",
     "output_type": "stream",
     "text": [
      "The age in days is\n"
     ]
    },
    {
     "data": {
      "text/plain": [
       "23725"
      ]
     },
     "execution_count": 29,
     "metadata": {},
     "output_type": "execute_result"
    }
   ],
   "source": [
    "age_years(65)"
   ]
  },
  {
   "cell_type": "code",
   "execution_count": 31,
   "id": "110f941a",
   "metadata": {},
   "outputs": [],
   "source": [
    "#find the square of a number\n",
    "def squared(a):\n",
    "    b = a ** 2\n",
    "    return b"
   ]
  },
  {
   "cell_type": "code",
   "execution_count": 32,
   "id": "7d5152cc",
   "metadata": {},
   "outputs": [
    {
     "data": {
      "text/plain": [
       "81"
      ]
     },
     "execution_count": 32,
     "metadata": {},
     "output_type": "execute_result"
    }
   ],
   "source": [
    "squared(9)"
   ]
  },
  {
   "cell_type": "code",
   "execution_count": 34,
   "id": "98a8b4cd",
   "metadata": {},
   "outputs": [],
   "source": [
    "#Create a function that takes the number of wins, draws and losses and calculates the number of points a football team has obtained so far.\n",
    "def football_points(wins,draw,losses):\n",
    "    x = wins * 3\n",
    "    y = draw * 1\n",
    "    z = losses * 0\n",
    "    a = x + y + z\n",
    "    print(\"Total score for the team is\")\n",
    "    return a"
   ]
  },
  {
   "cell_type": "code",
   "execution_count": 35,
   "id": "f23b1ee7",
   "metadata": {},
   "outputs": [
    {
     "name": "stdout",
     "output_type": "stream",
     "text": [
      "Total score for the team is\n"
     ]
    },
    {
     "data": {
      "text/plain": [
       "13"
      ]
     },
     "execution_count": 35,
     "metadata": {},
     "output_type": "execute_result"
    }
   ],
   "source": [
    "football_points(3,4,2)"
   ]
  },
  {
   "cell_type": "code",
   "execution_count": 36,
   "id": "20650018",
   "metadata": {},
   "outputs": [],
   "source": [
    "#Write a function that takes two integers (hours, minutes), converts them to seconds, and adds them.\n",
    "def convert(hours,minutes):\n",
    "    seconds = (hours * 60 * 60) + (minutes * 60)\n",
    "    return seconds"
   ]
  },
  {
   "cell_type": "code",
   "execution_count": 37,
   "id": "49058b6b",
   "metadata": {},
   "outputs": [
    {
     "data": {
      "text/plain": [
       "3780"
      ]
     },
     "execution_count": 37,
     "metadata": {},
     "output_type": "execute_result"
    }
   ],
   "source": [
    "convert(1,3)"
   ]
  },
  {
   "cell_type": "code",
   "execution_count": null,
   "id": "8ec627dc",
   "metadata": {},
   "outputs": [],
   "source": []
  }
 ],
 "metadata": {
  "kernelspec": {
   "display_name": "Python 3 (ipykernel)",
   "language": "python",
   "name": "python3"
  },
  "language_info": {
   "codemirror_mode": {
    "name": "ipython",
    "version": 3
   },
   "file_extension": ".py",
   "mimetype": "text/x-python",
   "name": "python",
   "nbconvert_exporter": "python",
   "pygments_lexer": "ipython3",
   "version": "3.9.12"
  }
 },
 "nbformat": 4,
 "nbformat_minor": 5
}
