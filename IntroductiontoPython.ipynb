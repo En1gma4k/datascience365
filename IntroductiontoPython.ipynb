{
 "cells": [
  {
   "cell_type": "code",
   "execution_count": 1,
   "id": "33ad2bfd",
   "metadata": {},
   "outputs": [],
   "source": [
    "x = 5"
   ]
  },
  {
   "cell_type": "code",
   "execution_count": 2,
   "id": "f66ac956",
   "metadata": {},
   "outputs": [
    {
     "data": {
      "text/plain": [
       "5"
      ]
     },
     "execution_count": 2,
     "metadata": {},
     "output_type": "execute_result"
    }
   ],
   "source": [
    "x"
   ]
  },
  {
   "cell_type": "code",
   "execution_count": 3,
   "id": "aff034c8",
   "metadata": {},
   "outputs": [],
   "source": [
    "y = 8"
   ]
  },
  {
   "cell_type": "code",
   "execution_count": 4,
   "id": "9591834b",
   "metadata": {},
   "outputs": [
    {
     "data": {
      "text/plain": [
       "8"
      ]
     },
     "execution_count": 4,
     "metadata": {},
     "output_type": "execute_result"
    }
   ],
   "source": [
    "y"
   ]
  },
  {
   "cell_type": "code",
   "execution_count": 7,
   "id": "b7690f91",
   "metadata": {},
   "outputs": [
    {
     "name": "stdout",
     "output_type": "stream",
     "text": [
      "8\n"
     ]
    }
   ],
   "source": [
    "print(y)"
   ]
  },
  {
   "cell_type": "code",
   "execution_count": 8,
   "id": "bc686841",
   "metadata": {},
   "outputs": [],
   "source": [
    "x1 = 10"
   ]
  },
  {
   "cell_type": "code",
   "execution_count": 9,
   "id": "2075c1d5",
   "metadata": {},
   "outputs": [
    {
     "data": {
      "text/plain": [
       "int"
      ]
     },
     "execution_count": 9,
     "metadata": {},
     "output_type": "execute_result"
    }
   ],
   "source": [
    "type(x1)"
   ]
  },
  {
   "cell_type": "code",
   "execution_count": 10,
   "id": "38ed445d",
   "metadata": {},
   "outputs": [
    {
     "data": {
      "text/plain": [
       "float"
      ]
     },
     "execution_count": 10,
     "metadata": {},
     "output_type": "execute_result"
    }
   ],
   "source": [
    "type(5.67)"
   ]
  },
  {
   "cell_type": "code",
   "execution_count": 11,
   "id": "28f5c4d7",
   "metadata": {},
   "outputs": [],
   "source": [
    "x,y = (10,20)"
   ]
  },
  {
   "cell_type": "code",
   "execution_count": 12,
   "id": "e4b1df41",
   "metadata": {},
   "outputs": [],
   "source": [
    "z= x+y"
   ]
  },
  {
   "cell_type": "code",
   "execution_count": 15,
   "id": "c3081696",
   "metadata": {},
   "outputs": [],
   "source": [
    "z = float(z)"
   ]
  },
  {
   "cell_type": "code",
   "execution_count": 19,
   "id": "0f266693",
   "metadata": {},
   "outputs": [
    {
     "name": "stdout",
     "output_type": "stream",
     "text": [
      "x + y 30.0 is the answer\n"
     ]
    }
   ],
   "source": [
    "print (\"x + y \" + str(z) + \" is the answer\")"
   ]
  },
  {
   "cell_type": "code",
   "execution_count": 20,
   "id": "50dfaac1",
   "metadata": {},
   "outputs": [
    {
     "data": {
      "text/plain": [
       "5.0"
      ]
     },
     "execution_count": 20,
     "metadata": {},
     "output_type": "execute_result"
    }
   ],
   "source": [
    "15 / 3"
   ]
  },
  {
   "cell_type": "code",
   "execution_count": 21,
   "id": "f231c13f",
   "metadata": {},
   "outputs": [
    {
     "data": {
      "text/plain": [
       "5.333333333333333"
      ]
     },
     "execution_count": 21,
     "metadata": {},
     "output_type": "execute_result"
    }
   ],
   "source": [
    "16 / 3"
   ]
  },
  {
   "cell_type": "code",
   "execution_count": 22,
   "id": "8ece1baa",
   "metadata": {},
   "outputs": [
    {
     "data": {
      "text/plain": [
       "5"
      ]
     },
     "execution_count": 22,
     "metadata": {},
     "output_type": "execute_result"
    }
   ],
   "source": [
    "int(16 / 3)"
   ]
  },
  {
   "cell_type": "code",
   "execution_count": 24,
   "id": "3ed10664",
   "metadata": {},
   "outputs": [
    {
     "data": {
      "text/plain": [
       "1"
      ]
     },
     "execution_count": 24,
     "metadata": {},
     "output_type": "execute_result"
    }
   ],
   "source": [
    "26 % 5"
   ]
  },
  {
   "cell_type": "code",
   "execution_count": 25,
   "id": "1da2859c",
   "metadata": {},
   "outputs": [],
   "source": [
    "x = 10"
   ]
  },
  {
   "cell_type": "code",
   "execution_count": 26,
   "id": "e31de11e",
   "metadata": {},
   "outputs": [],
   "source": [
    "y = 15"
   ]
  },
  {
   "cell_type": "code",
   "execution_count": 27,
   "id": "51e3cfb1",
   "metadata": {},
   "outputs": [],
   "source": [
    "z = x + y"
   ]
  },
  {
   "cell_type": "code",
   "execution_count": 29,
   "id": "d4df7e58",
   "metadata": {},
   "outputs": [],
   "source": [
    "x1 = 5 ** 2"
   ]
  },
  {
   "cell_type": "code",
   "execution_count": 30,
   "id": "739010db",
   "metadata": {},
   "outputs": [
    {
     "data": {
      "text/plain": [
       "True"
      ]
     },
     "execution_count": 30,
     "metadata": {},
     "output_type": "execute_result"
    }
   ],
   "source": [
    "z == x1"
   ]
  },
  {
   "cell_type": "code",
   "execution_count": 31,
   "id": "f4124117",
   "metadata": {},
   "outputs": [],
   "source": [
    "# This is just a comment"
   ]
  },
  {
   "cell_type": "code",
   "execution_count": 37,
   "id": "c5dab4de",
   "metadata": {},
   "outputs": [
    {
     "data": {
      "text/plain": [
       "'D'"
      ]
     },
     "execution_count": 37,
     "metadata": {},
     "output_type": "execute_result"
    }
   ],
   "source": [
    "\"Ruchika + Dash\"[10]"
   ]
  },
  {
   "cell_type": "code",
   "execution_count": 36,
   "id": "ee76717f",
   "metadata": {},
   "outputs": [
    {
     "name": "stdout",
     "output_type": "stream",
     "text": [
      "6\n"
     ]
    }
   ],
   "source": [
    "def six(x):\n",
    "    x = 6\n",
    "    return x\n",
    "\n",
    "print (six(2))\n",
    "    "
   ]
  },
  {
   "cell_type": "code",
   "execution_count": 40,
   "id": "6d068b28",
   "metadata": {},
   "outputs": [
    {
     "name": "stdout",
     "output_type": "stream",
     "text": [
      "They are not the same\n"
     ]
    }
   ],
   "source": [
    "x,y = (10,20)\n",
    "z = x + y\n",
    "x1 = x * 2\n",
    "if z == x1:\n",
    "    print(\"They are the same\")\n",
    "else:\n",
    "    print(\"They are not the same\")"
   ]
  },
  {
   "cell_type": "code",
   "execution_count": 55,
   "id": "e2a11e23",
   "metadata": {},
   "outputs": [],
   "source": [
    "def Positive_Negative_or_Zero(x):\n",
    "    if x < 0:\n",
    "        return \"Negative\"\n",
    "    elif x > 0:\n",
    "        return \"Positive\"\n",
    "    elif x == 0:\n",
    "        return \"Zero\"\n",
    "    else:\n",
    "        return \"Not a number\""
   ]
  },
  {
   "cell_type": "code",
   "execution_count": 47,
   "id": "89488477",
   "metadata": {},
   "outputs": [
    {
     "name": "stdout",
     "output_type": "stream",
     "text": [
      "Positive\n"
     ]
    }
   ],
   "source": [
    "print (Positive_Negative_or_Zero(2))"
   ]
  },
  {
   "cell_type": "code",
   "execution_count": 49,
   "id": "fb699232",
   "metadata": {},
   "outputs": [
    {
     "name": "stdout",
     "output_type": "stream",
     "text": [
      "Negative\n"
     ]
    }
   ],
   "source": [
    "print (Positive_Negative_or_Zero(-35))"
   ]
  },
  {
   "cell_type": "code",
   "execution_count": 56,
   "id": "fdd3e7c3",
   "metadata": {},
   "outputs": [
    {
     "name": "stdout",
     "output_type": "stream",
     "text": [
      "Zero\n"
     ]
    }
   ],
   "source": [
    "print (Positive_Negative_or_Zero(0))"
   ]
  }
 ],
 "metadata": {
  "kernelspec": {
   "display_name": "Python 3 (ipykernel)",
   "language": "python",
   "name": "python3"
  },
  "language_info": {
   "codemirror_mode": {
    "name": "ipython",
    "version": 3
   },
   "file_extension": ".py",
   "mimetype": "text/x-python",
   "name": "python",
   "nbconvert_exporter": "python",
   "pygments_lexer": "ipython3",
   "version": "3.9.12"
  }
 },
 "nbformat": 4,
 "nbformat_minor": 5
}
