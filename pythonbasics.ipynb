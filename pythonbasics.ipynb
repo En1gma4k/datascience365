{
 "cells": [
  {
   "cell_type": "code",
   "execution_count": 28,
   "id": "175ea111",
   "metadata": {},
   "outputs": [],
   "source": [
    "def Birthday_Gift(x):\n",
    "    if x >= 5000 and x <= 10000:\n",
    "        return (\"Ruchika Loves you\")\n",
    "    elif x < 5000 and x > 500:\n",
    "        print (\"Ruchika is \")\n",
    "        return (\"Cheapo\")\n",
    "    elif x >= 10000:\n",
    "        print (\"I am going \")\n",
    "        return (\"woo hoo\")\n",
    "    else:\n",
    "        print (\"Ruchika \")\n",
    "        return(\"Why you hate me?\")\n",
    "        "
   ]
  },
  {
   "cell_type": "code",
   "execution_count": 29,
   "id": "0d1aa00c",
   "metadata": {},
   "outputs": [
    {
     "name": "stdout",
     "output_type": "stream",
     "text": [
      "I am going \n",
      "woo hoo\n"
     ]
    }
   ],
   "source": [
    "print (Birthday_Gift(10001))"
   ]
  },
  {
   "cell_type": "code",
   "execution_count": 37,
   "id": "5cbf8f4b",
   "metadata": {},
   "outputs": [],
   "source": [
    "def twentyfour_multiplied_by(x):\n",
    "    print (\"24 times\", x ,\"is\")\n",
    "    return 24 * x"
   ]
  },
  {
   "cell_type": "code",
   "execution_count": 39,
   "id": "567b8dbf",
   "metadata": {},
   "outputs": [
    {
     "name": "stdout",
     "output_type": "stream",
     "text": [
      "24 times 4 is\n",
      "96\n"
     ]
    }
   ],
   "source": [
    "print (twentyfour_multiplied_by(4))"
   ]
  },
  {
   "cell_type": "code",
   "execution_count": 91,
   "id": "56566dbc",
   "metadata": {},
   "outputs": [],
   "source": [
    "def add_ten(m):\n",
    "    if m >= 100:\n",
    "        m = m + 10\n",
    "        print (\"Johnny now has\")\n",
    "        return m\n",
    "    else:\n",
    "        x = 100 - m\n",
    "        x = round(x,2)\n",
    "        print (\"You are short by\")\n",
    "        return x\n",
    "    \n",
    "    \n",
    "    "
   ]
  },
  {
   "cell_type": "code",
   "execution_count": 93,
   "id": "a3d9180b",
   "metadata": {},
   "outputs": [
    {
     "name": "stdout",
     "output_type": "stream",
     "text": [
      "You are short by\n",
      "1.5\n"
     ]
    }
   ],
   "source": [
    "print (add_ten(98.50))"
   ]
  },
  {
   "cell_type": "code",
   "execution_count": null,
   "id": "526d928e",
   "metadata": {},
   "outputs": [],
   "source": []
  },
  {
   "cell_type": "code",
   "execution_count": null,
   "id": "6453fc19",
   "metadata": {},
   "outputs": [],
   "source": []
  }
 ],
 "metadata": {
  "kernelspec": {
   "display_name": "Python 3 (ipykernel)",
   "language": "python",
   "name": "python3"
  },
  "language_info": {
   "codemirror_mode": {
    "name": "ipython",
    "version": 3
   },
   "file_extension": ".py",
   "mimetype": "text/x-python",
   "name": "python",
   "nbconvert_exporter": "python",
   "pygments_lexer": "ipython3",
   "version": "3.9.12"
  }
 },
 "nbformat": 4,
 "nbformat_minor": 5
}
