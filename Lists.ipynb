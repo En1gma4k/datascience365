{
 "cells": [
  {
   "cell_type": "code",
   "execution_count": 22,
   "id": "7de3f957",
   "metadata": {},
   "outputs": [
    {
     "data": {
      "text/plain": [
       "['Guru', 'Jalil', 'Maria', 'Anita', 'Gulbahar', 'Kim', 'Leo']"
      ]
     },
     "execution_count": 22,
     "metadata": {},
     "output_type": "execute_result"
    }
   ],
   "source": [
    "Students = ['Guru','Jalil', 'Maria', 'Anita', 'Gulbahar', 'Kim', 'Leo']\n",
    "Students"
   ]
  },
  {
   "cell_type": "code",
   "execution_count": 23,
   "id": "e2629d72",
   "metadata": {},
   "outputs": [
    {
     "name": "stdout",
     "output_type": "stream",
     "text": [
      "Jalil\n"
     ]
    }
   ],
   "source": [
    "print(Students[1])"
   ]
  },
  {
   "cell_type": "code",
   "execution_count": 24,
   "id": "63fd61ed",
   "metadata": {},
   "outputs": [],
   "source": [
    "Students[-2] = 'Kate'"
   ]
  },
  {
   "cell_type": "code",
   "execution_count": 25,
   "id": "5d64898a",
   "metadata": {},
   "outputs": [
    {
     "data": {
      "text/plain": [
       "['Guru', 'Jalil', 'Maria', 'Anita', 'Gulbahar', 'Kate', 'Leo']"
      ]
     },
     "execution_count": 25,
     "metadata": {},
     "output_type": "execute_result"
    }
   ],
   "source": [
    "Students"
   ]
  },
  {
   "cell_type": "code",
   "execution_count": 27,
   "id": "8154ee95",
   "metadata": {},
   "outputs": [],
   "source": [
    "del Students[-2]"
   ]
  },
  {
   "cell_type": "code",
   "execution_count": 28,
   "id": "a2947c5e",
   "metadata": {},
   "outputs": [
    {
     "data": {
      "text/plain": [
       "['Guru', 'Jalil', 'Maria', 'Anita', 'Leo']"
      ]
     },
     "execution_count": 28,
     "metadata": {},
     "output_type": "execute_result"
    }
   ],
   "source": [
    "Students"
   ]
  },
  {
   "cell_type": "code",
   "execution_count": 29,
   "id": "e0f94ec4",
   "metadata": {},
   "outputs": [
    {
     "data": {
      "text/plain": [
       "['Guru', 'Jalil', 'Maria', 'Anita', 'Leo', 'Kimia']"
      ]
     },
     "execution_count": 29,
     "metadata": {},
     "output_type": "execute_result"
    }
   ],
   "source": [
    "Students.append('Kimia')\n",
    "Students"
   ]
  },
  {
   "cell_type": "code",
   "execution_count": 30,
   "id": "3721aa17",
   "metadata": {},
   "outputs": [
    {
     "data": {
      "text/plain": [
       "6"
      ]
     },
     "execution_count": 30,
     "metadata": {},
     "output_type": "execute_result"
    }
   ],
   "source": [
    "len(Students)"
   ]
  },
  {
   "cell_type": "code",
   "execution_count": null,
   "id": "3b9a69a3",
   "metadata": {},
   "outputs": [],
   "source": []
  }
 ],
 "metadata": {
  "kernelspec": {
   "display_name": "Python 3 (ipykernel)",
   "language": "python",
   "name": "python3"
  },
  "language_info": {
   "codemirror_mode": {
    "name": "ipython",
    "version": 3
   },
   "file_extension": ".py",
   "mimetype": "text/x-python",
   "name": "python",
   "nbconvert_exporter": "python",
   "pygments_lexer": "ipython3",
   "version": "3.9.12"
  }
 },
 "nbformat": 4,
 "nbformat_minor": 5
}
