{
 "cells": [
  {
   "cell_type": "code",
   "execution_count": 23,
   "id": "37274db4",
   "metadata": {},
   "outputs": [
    {
     "name": "stdout",
     "output_type": "stream",
     "text": [
      "['Sommyak', 'Jalil', 'Maria', 'Anita', 'Gulbahar', 'Leo']\n",
      "['Sommyak', 'Jalil', 'Maria', 'Anita', 'Gulbahar', 'Leo', 'Caueh']\n",
      "[['Sommyak', 'Jalil', 'Maria', 'Anita', 'Gulbahar', 'Leo', 'Caueh'], ['Ruchika', 'Jesus']]\n"
     ]
    }
   ],
   "source": [
    "students = ['Sommyak','Jalil','Maria','Anita','Gulbahar', 'Leo', 'Kimia']\n",
    "del students[-1]\n",
    "print (students)\n",
    "students.append('Caueh')\n",
    "print (students)\n",
    "students.index(\"Maria\")\n",
    "newcomers = ['Ruchika','Jesus']\n",
    "newlist = [students,newcomers]\n",
    "print(newlist)"
   ]
  },
  {
   "cell_type": "code",
   "execution_count": null,
   "id": "804aa699",
   "metadata": {},
   "outputs": [],
   "source": []
  }
 ],
 "metadata": {
  "kernelspec": {
   "display_name": "Python 3 (ipykernel)",
   "language": "python",
   "name": "python3"
  },
  "language_info": {
   "codemirror_mode": {
    "name": "ipython",
    "version": 3
   },
   "file_extension": ".py",
   "mimetype": "text/x-python",
   "name": "python",
   "nbconvert_exporter": "python",
   "pygments_lexer": "ipython3",
   "version": "3.9.12"
  }
 },
 "nbformat": 4,
 "nbformat_minor": 5
}
